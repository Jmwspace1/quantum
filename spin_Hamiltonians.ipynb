{
  "nbformat": 4,
  "nbformat_minor": 0,
  "metadata": {
    "colab": {
      "provenance": []
    },
    "kernelspec": {
      "name": "python3",
      "display_name": "Python 3"
    },
    "language_info": {
      "name": "python"
    }
  },
  "cells": [
    {
      "cell_type": "code",
      "execution_count": 1,
      "metadata": {
        "colab": {
          "base_uri": "https://localhost:8080/"
        },
        "id": "RZJyb8bbteqS",
        "outputId": "28be73af-c0e7-4dbf-bf93-21e57f06994d"
      },
      "outputs": [
        {
          "output_type": "stream",
          "name": "stdout",
          "text": [
            "Collecting pennylane\n",
            "  Downloading PennyLane-0.39.0-py3-none-any.whl.metadata (9.2 kB)\n",
            "Requirement already satisfied: numpy<2.1 in /usr/local/lib/python3.10/dist-packages (from pennylane) (1.26.4)\n",
            "Requirement already satisfied: scipy in /usr/local/lib/python3.10/dist-packages (from pennylane) (1.13.1)\n",
            "Requirement already satisfied: networkx in /usr/local/lib/python3.10/dist-packages (from pennylane) (3.4.2)\n",
            "Collecting rustworkx>=0.14.0 (from pennylane)\n",
            "  Downloading rustworkx-0.15.1-cp38-abi3-manylinux_2_17_x86_64.manylinux2014_x86_64.whl.metadata (9.9 kB)\n",
            "Requirement already satisfied: autograd in /usr/local/lib/python3.10/dist-packages (from pennylane) (1.7.0)\n",
            "Requirement already satisfied: toml in /usr/local/lib/python3.10/dist-packages (from pennylane) (0.10.2)\n",
            "Collecting appdirs (from pennylane)\n",
            "  Downloading appdirs-1.4.4-py2.py3-none-any.whl.metadata (9.0 kB)\n",
            "Collecting autoray>=0.6.11 (from pennylane)\n",
            "  Downloading autoray-0.7.0-py3-none-any.whl.metadata (5.8 kB)\n",
            "Requirement already satisfied: cachetools in /usr/local/lib/python3.10/dist-packages (from pennylane) (5.5.0)\n",
            "Collecting pennylane-lightning>=0.39 (from pennylane)\n",
            "  Downloading PennyLane_Lightning-0.39.0-cp310-cp310-manylinux_2_28_x86_64.whl.metadata (26 kB)\n",
            "Requirement already satisfied: requests in /usr/local/lib/python3.10/dist-packages (from pennylane) (2.32.3)\n",
            "Requirement already satisfied: typing-extensions in /usr/local/lib/python3.10/dist-packages (from pennylane) (4.12.2)\n",
            "Requirement already satisfied: packaging in /usr/local/lib/python3.10/dist-packages (from pennylane) (24.2)\n",
            "Requirement already satisfied: charset-normalizer<4,>=2 in /usr/local/lib/python3.10/dist-packages (from requests->pennylane) (3.4.0)\n",
            "Requirement already satisfied: idna<4,>=2.5 in /usr/local/lib/python3.10/dist-packages (from requests->pennylane) (3.10)\n",
            "Requirement already satisfied: urllib3<3,>=1.21.1 in /usr/local/lib/python3.10/dist-packages (from requests->pennylane) (2.2.3)\n",
            "Requirement already satisfied: certifi>=2017.4.17 in /usr/local/lib/python3.10/dist-packages (from requests->pennylane) (2024.12.14)\n",
            "Downloading PennyLane-0.39.0-py3-none-any.whl (1.9 MB)\n",
            "\u001b[2K   \u001b[90m━━━━━━━━━━━━━━━━━━━━━━━━━━━━━━━━━━━━━━━━\u001b[0m \u001b[32m1.9/1.9 MB\u001b[0m \u001b[31m18.2 MB/s\u001b[0m eta \u001b[36m0:00:00\u001b[0m\n",
            "\u001b[?25hDownloading autoray-0.7.0-py3-none-any.whl (930 kB)\n",
            "\u001b[2K   \u001b[90m━━━━━━━━━━━━━━━━━━━━━━━━━━━━━━━━━━━━━━━━\u001b[0m \u001b[32m930.0/930.0 kB\u001b[0m \u001b[31m41.5 MB/s\u001b[0m eta \u001b[36m0:00:00\u001b[0m\n",
            "\u001b[?25hDownloading PennyLane_Lightning-0.39.0-cp310-cp310-manylinux_2_28_x86_64.whl (1.7 MB)\n",
            "\u001b[2K   \u001b[90m━━━━━━━━━━━━━━━━━━━━━━━━━━━━━━━━━━━━━━━━\u001b[0m \u001b[32m1.7/1.7 MB\u001b[0m \u001b[31m17.9 MB/s\u001b[0m eta \u001b[36m0:00:00\u001b[0m\n",
            "\u001b[?25hDownloading rustworkx-0.15.1-cp38-abi3-manylinux_2_17_x86_64.manylinux2014_x86_64.whl (2.0 MB)\n",
            "\u001b[2K   \u001b[90m━━━━━━━━━━━━━━━━━━━━━━━━━━━━━━━━━━━━━━━━\u001b[0m \u001b[32m2.0/2.0 MB\u001b[0m \u001b[31m29.7 MB/s\u001b[0m eta \u001b[36m0:00:00\u001b[0m\n",
            "\u001b[?25hDownloading appdirs-1.4.4-py2.py3-none-any.whl (9.6 kB)\n",
            "Installing collected packages: appdirs, rustworkx, autoray, pennylane-lightning, pennylane\n",
            "Successfully installed appdirs-1.4.4 autoray-0.7.0 pennylane-0.39.0 pennylane-lightning-0.39.0 rustworkx-0.15.1\n"
          ]
        }
      ],
      "source": [
        "!pip install pennylane --upgrade"
      ]
    },
    {
      "cell_type": "code",
      "source": [
        "import pennylane as qml\n",
        "\n",
        "n_cells = [2, 2]\n",
        "hopping = 0.2\n",
        "onsite = 0.3\n",
        "\n",
        "hamiltonian = qml.spin.fermi_hubbard('square', n_cells, hopping, onsite)\n",
        "print('Hamiltonian:\\n')\n",
        "hamiltonian"
      ],
      "metadata": {
        "colab": {
          "base_uri": "https://localhost:8080/"
        },
        "collapsed": true,
        "id": "oSMAm9RItmFB",
        "outputId": "2c46ddc2-2074-4881-8b68-4aa7dddf1504"
      },
      "execution_count": 13,
      "outputs": [
        {
          "output_type": "stream",
          "name": "stdout",
          "text": [
            "Hamiltonian:\n",
            "\n"
          ]
        },
        {
          "output_type": "execute_result",
          "data": {
            "text/plain": [
              "(\n",
              "    -0.1 * (Y(0) @ Z(1) @ Y(2))\n",
              "  + -0.1 * (X(0) @ Z(1) @ X(2))\n",
              "  + 0.3 * I(0)\n",
              "  + -0.1 * (Y(1) @ Z(2) @ Y(3))\n",
              "  + -0.1 * (X(1) @ Z(2) @ X(3))\n",
              "  + -0.1 * (Y(0) @ Z(1) @ Z(2) @ Z(3) @ Y(4))\n",
              "  + -0.1 * (X(0) @ Z(1) @ Z(2) @ Z(3) @ X(4))\n",
              "  + -0.1 * (Y(1) @ Z(2) @ Z(3) @ Z(4) @ Y(5))\n",
              "  + -0.1 * (X(1) @ Z(2) @ Z(3) @ Z(4) @ X(5))\n",
              "  + -0.1 * (Y(2) @ Z(3) @ Z(4) @ Z(5) @ Y(6))\n",
              "  + -0.1 * (X(2) @ Z(3) @ Z(4) @ Z(5) @ X(6))\n",
              "  + -0.1 * (Y(3) @ Z(4) @ Z(5) @ Z(6) @ Y(7))\n",
              "  + -0.1 * (X(3) @ Z(4) @ Z(5) @ Z(6) @ X(7))\n",
              "  + -0.1 * (Y(4) @ Z(5) @ Y(6))\n",
              "  + -0.1 * (X(4) @ Z(5) @ X(6))\n",
              "  + -0.1 * (Y(5) @ Z(6) @ Y(7))\n",
              "  + -0.1 * (X(5) @ Z(6) @ X(7))\n",
              "  + -0.075 * Z(1)\n",
              "  + -0.075 * Z(0)\n",
              "  + 0.075 * (Z(0) @ Z(1))\n",
              "  + -0.075 * Z(3)\n",
              "  + -0.075 * Z(2)\n",
              "  + 0.075 * (Z(2) @ Z(3))\n",
              "  + -0.075 * Z(5)\n",
              "  + -0.075 * Z(4)\n",
              "  + 0.075 * (Z(4) @ Z(5))\n",
              "  + -0.075 * Z(7)\n",
              "  + -0.075 * Z(6)\n",
              "  + 0.075 * (Z(6) @ Z(7))\n",
              ")"
            ]
          },
          "metadata": {},
          "execution_count": 13
        }
      ]
    },
    {
      "cell_type": "code",
      "source": [
        "import matplotlib.pyplot as plt\n",
        "\n",
        "def plot(lattice, figsize=None, showlabel=True):\n",
        "\n",
        "    # initialize the plot\n",
        "    if not figsize:\n",
        "        figsize = lattice.n_cells[::-1]\n",
        "\n",
        "    plt.figure(figsize=figsize)\n",
        "\n",
        "    # get lattice nodes and edges and plot them\n",
        "    nodes = lattice.lattice_points\n",
        "\n",
        "    for edge in lattice.edges:\n",
        "        start_index, end_index, color = edge\n",
        "        start_pos, end_pos = nodes[start_index], nodes[end_index]\n",
        "\n",
        "        x_axis = [start_pos[0], end_pos[0]]\n",
        "        y_axis = [start_pos[1], end_pos[1]]\n",
        "        plt.plot(x_axis, y_axis, color='gold')\n",
        "\n",
        "        plt.scatter(nodes[:,0], nodes[:,1], color='dodgerblue', s=100)\n",
        "\n",
        "        if showlabel:\n",
        "            for index, pos in enumerate(nodes):\n",
        "                plt.text(pos[0]-0.2, pos[1]+0.1, str(index), color='gray')\n",
        "\n",
        "    plt.axis(\"off\")\n",
        "    plt.show()\n",
        "\n",
        "lattice = qml.spin.generate_lattice('square', n_cells)\n",
        "plot(lattice)"
      ],
      "metadata": {
        "colab": {
          "base_uri": "https://localhost:8080/",
          "height": 209
        },
        "id": "J1oSlOiFuP6H",
        "outputId": "1cb7d6a9-f574-4211-84e0-e73f42ae53f0"
      },
      "execution_count": 14,
      "outputs": [
        {
          "output_type": "display_data",
          "data": {
            "text/plain": [
              "<Figure size 200x200 with 1 Axes>"
            ],
            "image/png": "[encoded data removed]"
          },
          "metadata": {}
        }
      ]
    },
    {
      "cell_type": "code",
      "source": [
        "coupling = [0.5, 0.5, 0.5]\n",
        "hamiltonian = qml.spin.heisenberg('triangle', n_cells, coupling)\n",
        "\n",
        "lattice = qml.spin.generate_lattice('triangle', n_cells)\n",
        "plot(lattice)"
      ],
      "metadata": {
        "colab": {
          "base_uri": "https://localhost:8080/",
          "height": 211
        },
        "id": "2VlUT9--vDDH",
        "outputId": "e5cf43b1-07e8-443c-ee71-c3379e22c111"
      },
      "execution_count": 15,
      "outputs": [
        {
          "output_type": "display_data",
          "data": {
            "text/plain": [
              "<Figure size 200x200 with 1 Axes>"
            ],
            "image/png": "[encoded data removed]"
          },
          "metadata": {}
        }
      ]
    },
    {
      "cell_type": "code",
      "source": [
        "coupling, h = 0.5, 1.0\n",
        "hamiltonian = qml.spin.transverse_ising('honeycomb', n_cells, coupling, h)\n",
        "\n",
        "lattice = qml.spin.generate_lattice('honeycomb', n_cells)\n",
        "plot(lattice)\n"
      ],
      "metadata": {
        "colab": {
          "base_uri": "https://localhost:8080/",
          "height": 207
        },
        "id": "aam1noQ9vFW9",
        "outputId": "f1064fcb-8b4f-4576-9a37-55390e98163e"
      },
      "execution_count": 16,
      "outputs": [
        {
          "output_type": "display_data",
          "data": {
            "text/plain": [
              "<Figure size 200x200 with 1 Axes>"
            ],
            "image/png": "[encoded data removed]"
          },
          "metadata": {}
        }
      ]
    },
    {
      "cell_type": "code",
      "source": [
        "coupling = [0.5, 0.6, 0.7]\n",
        "hamiltonian = qml.spin.kitaev(n_cells, coupling)"
      ],
      "metadata": {
        "id": "VR7VV0wUvHfH"
      },
      "execution_count": 17,
      "outputs": []
    },
    {
      "cell_type": "code",
      "source": [
        "hopping = 0.5\n",
        "hopping_next = 1.0\n",
        "phi = 0.1\n",
        "hamiltonian = qml.spin.haldane('kagome', n_cells, hopping, hopping_next, phi)\n",
        "\n",
        "lattice = qml.spin.generate_lattice('kagome', n_cells)\n",
        "plot(lattice)"
      ],
      "metadata": {
        "colab": {
          "base_uri": "https://localhost:8080/",
          "height": 205
        },
        "id": "xE9jjKdmvJmh",
        "outputId": "06e81b21-080a-49c2-be44-9cb4986d1d43"
      },
      "execution_count": 18,
      "outputs": [
        {
          "output_type": "display_data",
          "data": {
            "text/plain": [
              "<Figure size 200x200 with 1 Axes>"
            ],
            "image/png": "[encoded data removed]"
          },
          "metadata": {}
        }
      ]
    },
    {
      "cell_type": "code",
      "source": [
        "hopping = 0.5\n",
        "coulomb = 1.0\n",
        "intersite_coupling = 0.2\n",
        "hamiltonian = qml.spin.emery('lieb', n_cells, hopping, coulomb, intersite_coupling)\n",
        "\n",
        "lattice = qml.spin.generate_lattice('lieb', n_cells)\n",
        "plot(lattice)"
      ],
      "metadata": {
        "colab": {
          "base_uri": "https://localhost:8080/",
          "height": 204
        },
        "id": "0SMZJzMMvLvW",
        "outputId": "cd470335-f159-48b8-febb-3c56b2884bd1"
      },
      "execution_count": 19,
      "outputs": [
        {
          "output_type": "display_data",
          "data": {
            "text/plain": [
              "<Figure size 200x200 with 1 Axes>"
            ],
            "image/png": "[encoded data removed]"
          },
          "metadata": {}
        }
      ]
    },
    {
      "cell_type": "code",
      "source": [
        "lattice = qml.spin.generate_lattice('square', [3, 3])"
      ],
      "metadata": {
        "id": "p4r-JSMfvONz"
      },
      "execution_count": 20,
      "outputs": []
    },
    {
      "cell_type": "code",
      "source": [
        "plot(lattice)"
      ],
      "metadata": {
        "colab": {
          "base_uri": "https://localhost:8080/",
          "height": 279
        },
        "id": "FV2HKWWXvQPw",
        "outputId": "88791e0f-bdb4-4d91-dfaa-e69020cd009b"
      },
      "execution_count": 21,
      "outputs": [
        {
          "output_type": "display_data",
          "data": {
            "text/plain": [
              "<Figure size 300x300 with 1 Axes>"
            ],
            "image/png": "[encoded data removed]"
          },
          "metadata": {}
        }
      ]
    },
    {
      "cell_type": "code",
      "source": [
        "from pennylane.spin import Lattice\n",
        "\n",
        "positions = [[0.2, 0.5], [0.5, 0.2],\n",
        "             [0.5, 0.8], [0.8, 0.5]] # coordinates of sites\n",
        "vectors = [[1, 0], [0, 1]] # primitive translation vectors\n",
        "n_cells = [3, 3] # number of unit cells in each direction\n",
        "\n",
        "lattice = Lattice(n_cells, vectors, positions, neighbour_order=2)\n",
        "\n",
        "plot(lattice, figsize = (5, 5), showlabel=False)\n"
      ],
      "metadata": {
        "colab": {
          "base_uri": "https://localhost:8080/",
          "height": 422
        },
        "id": "SIMH7kKIvRz9",
        "outputId": "cf5b2ea0-2a01-4f17-bff9-d2a6b3bb561d"
      },
      "execution_count": 22,
      "outputs": [
        {
          "output_type": "display_data",
          "data": {
            "text/plain": [
              "<Figure size 500x500 with 1 Axes>"
            ],
            "image/png": "[encoded data removed]"
          },
          "metadata": {}
        }
      ]
    },
    {
      "cell_type": "code",
      "source": [
        "from pennylane import X, Y, Z\n",
        "\n",
        "coupling, onsite = 0.25, 0.75\n",
        "\n",
        "hamiltonian = 0.0\n",
        "# add the one-site terms\n",
        "for vertex in range(lattice.n_sites):\n",
        "    hamiltonian += -onsite * X(vertex)\n",
        "\n",
        "# add the coupling terms\n",
        "for edge in lattice.edges_indices:\n",
        "    i, j = edge[0], edge[1]\n",
        "    hamiltonian += - coupling * (Z(i) @ Z(j))\n",
        "\n",
        "hamiltonian"
      ],
      "metadata": {
        "colab": {
          "base_uri": "https://localhost:8080/"
        },
        "id": "HzP11p0wvUTm",
        "outputId": "f25e0224-ebc1-4571-e5bf-862f1f4e152d"
      },
      "execution_count": 23,
      "outputs": [
        {
          "output_type": "execute_result",
          "data": {
            "text/plain": [
              "(\n",
              "    -0.75 * X(0)\n",
              "  + -0.75 * X(1)\n",
              "  + -0.75 * X(2)\n",
              "  + -0.75 * X(3)\n",
              "  + -0.75 * X(4)\n",
              "  + -0.75 * X(5)\n",
              "  + -0.75 * X(6)\n",
              "  + -0.75 * X(7)\n",
              "  + -0.75 * X(8)\n",
              "  + -0.75 * X(9)\n",
              "  + -0.75 * X(10)\n",
              "  + -0.75 * X(11)\n",
              "  + -0.75 * X(12)\n",
              "  + -0.75 * X(13)\n",
              "  + -0.75 * X(14)\n",
              "  + -0.75 * X(15)\n",
              "  + -0.75 * X(16)\n",
              "  + -0.75 * X(17)\n",
              "  + -0.75 * X(18)\n",
              "  + -0.75 * X(19)\n",
              "  + -0.75 * X(20)\n",
              "  + -0.75 * X(21)\n",
              "  + -0.75 * X(22)\n",
              "  + -0.75 * X(23)\n",
              "  + -0.75 * X(24)\n",
              "  + -0.75 * X(25)\n",
              "  + -0.75 * X(26)\n",
              "  + -0.75 * X(27)\n",
              "  + -0.75 * X(28)\n",
              "  + -0.75 * X(29)\n",
              "  + -0.75 * X(30)\n",
              "  + -0.75 * X(31)\n",
              "  + -0.75 * X(32)\n",
              "  + -0.75 * X(33)\n",
              "  + -0.75 * X(34)\n",
              "  + -0.75 * X(35)\n",
              "  + -0.25 * (Z(2) @ Z(5))\n",
              "  + -0.25 * (Z(3) @ Z(12))\n",
              "  + -0.25 * (Z(6) @ Z(9))\n",
              "  + -0.25 * (Z(7) @ Z(16))\n",
              "  + -0.25 * (Z(11) @ Z(20))\n",
              "  + -0.25 * (Z(14) @ Z(17))\n",
              "  + -0.25 * (Z(15) @ Z(24))\n",
              "  + -0.25 * (Z(18) @ Z(21))\n",
              "  + -0.25 * (Z(19) @ Z(28))\n",
              "  + -0.25 * (Z(23) @ Z(32))\n",
              "  + -0.25 * (Z(26) @ Z(29))\n",
              "  + -0.25 * (Z(30) @ Z(33))\n",
              "  + -0.25 * (Z(0) @ Z(1))\n",
              "  + -0.25 * (Z(0) @ Z(2))\n",
              "  + -0.25 * (Z(1) @ Z(3))\n",
              "  + -0.25 * (Z(2) @ Z(3))\n",
              "  + -0.25 * (Z(4) @ Z(5))\n",
              "  + -0.25 * (Z(4) @ Z(6))\n",
              "  + -0.25 * (Z(5) @ Z(7))\n",
              "  + -0.25 * (Z(6) @ Z(7))\n",
              "  + -0.25 * (Z(8) @ Z(9))\n",
              "  + -0.25 * (Z(8) @ Z(10))\n",
              "  + -0.25 * (Z(9) @ Z(11))\n",
              "  + -0.25 * (Z(10) @ Z(11))\n",
              "  + -0.25 * (Z(12) @ Z(13))\n",
              "  + -0.25 * (Z(12) @ Z(14))\n",
              "  + -0.25 * (Z(13) @ Z(15))\n",
              "  + -0.25 * (Z(14) @ Z(15))\n",
              "  + -0.25 * (Z(16) @ Z(17))\n",
              "  + -0.25 * (Z(16) @ Z(18))\n",
              "  + -0.25 * (Z(17) @ Z(19))\n",
              "  + -0.25 * (Z(18) @ Z(19))\n",
              "  + -0.25 * (Z(20) @ Z(21))\n",
              "  + -0.25 * (Z(20) @ Z(22))\n",
              "  + -0.25 * (Z(21) @ Z(23))\n",
              "  + -0.25 * (Z(22) @ Z(23))\n",
              "  + -0.25 * (Z(24) @ Z(25))\n",
              "  + -0.25 * (Z(24) @ Z(26))\n",
              "  + -0.25 * (Z(25) @ Z(27))\n",
              "  + -0.25 * (Z(26) @ Z(27))\n",
              "  + -0.25 * (Z(28) @ Z(29))\n",
              "  + -0.25 * (Z(28) @ Z(30))\n",
              "  + -0.25 * (Z(29) @ Z(31))\n",
              "  + -0.25 * (Z(30) @ Z(31))\n",
              "  + -0.25 * (Z(32) @ Z(33))\n",
              "  + -0.25 * (Z(32) @ Z(34))\n",
              "  + -0.25 * (Z(33) @ Z(35))\n",
              "  + -0.25 * (Z(34) @ Z(35))\n",
              ")"
            ]
          },
          "metadata": {},
          "execution_count": 23
        }
      ]
    },
    {
      "cell_type": "code",
      "source": [],
      "metadata": {
        "id": "-jUQPKYAvWby"
      },
      "execution_count": null,
      "outputs": []
    }
  ]
}