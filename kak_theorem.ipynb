{
  "nbformat": 4,
  "nbformat_minor": 0,
  "metadata": {
    "colab": {
      "provenance": [],
      "authorship_tag": "ABX9TyONaNIwP84T+vteIXhrz9ya",
      "include_colab_link": true
    },
    "kernelspec": {
      "name": "python3",
      "display_name": "Python 3"
    },
    "language_info": {
      "name": "python"
    }
  },
  "cells": [
    {
      "cell_type": "markdown",
      "metadata": {
        "id": "view-in-github",
        "colab_type": "text"
      },
      "source": [
        "<a href=\"https://colab.research.google.com/github/Jmwspace1/quantum/blob/main/kak_theorem.ipynb\" target=\"_parent\"><img src=\"https://colab.research.google.com/assets/colab-badge.svg\" alt=\"Open In Colab\"/></a>"
      ]
    },
    {
      "cell_type": "code",
      "execution_count": 1,
      "metadata": {
        "colab": {
          "base_uri": "https://localhost:8080/"
        },
        "id": "IWZciyrknk9b",
        "outputId": "092dfc0d-3d5d-45d0-f067-49d08b88ca3c"
      },
      "outputs": [
        {
          "output_type": "stream",
          "name": "stdout",
          "text": [
            "Collecting qiskit\n",
            "  Downloading qiskit-1.3.1-cp39-abi3-manylinux_2_17_x86_64.manylinux2014_x86_64.whl.metadata (12 kB)\n",
            "Collecting rustworkx>=0.15.0 (from qiskit)\n",
            "  Downloading rustworkx-0.15.1-cp38-abi3-manylinux_2_17_x86_64.manylinux2014_x86_64.whl.metadata (9.9 kB)\n",
            "Requirement already satisfied: numpy<3,>=1.17 in /usr/local/lib/python3.10/dist-packages (from qiskit) (1.26.4)\n",
            "Requirement already satisfied: scipy>=1.5 in /usr/local/lib/python3.10/dist-packages (from qiskit) (1.13.1)\n",
            "Requirement already satisfied: sympy>=1.3 in /usr/local/lib/python3.10/dist-packages (from qiskit) (1.13.1)\n",
            "Collecting dill>=0.3 (from qiskit)\n",
            "  Downloading dill-0.3.9-py3-none-any.whl.metadata (10 kB)\n",
            "Requirement already satisfied: python-dateutil>=2.8.0 in /usr/local/lib/python3.10/dist-packages (from qiskit) (2.8.2)\n",
            "Collecting stevedore>=3.0.0 (from qiskit)\n",
            "  Downloading stevedore-5.4.0-py3-none-any.whl.metadata (2.3 kB)\n",
            "Requirement already satisfied: typing-extensions in /usr/local/lib/python3.10/dist-packages (from qiskit) (4.12.2)\n",
            "Collecting symengine<0.14,>=0.11 (from qiskit)\n",
            "  Downloading symengine-0.13.0-cp310-cp310-manylinux_2_17_x86_64.manylinux2014_x86_64.whl.metadata (1.2 kB)\n",
            "Requirement already satisfied: six>=1.5 in /usr/local/lib/python3.10/dist-packages (from python-dateutil>=2.8.0->qiskit) (1.17.0)\n",
            "Collecting pbr>=2.0.0 (from stevedore>=3.0.0->qiskit)\n",
            "  Downloading pbr-6.1.0-py2.py3-none-any.whl.metadata (3.4 kB)\n",
            "Requirement already satisfied: mpmath<1.4,>=1.1.0 in /usr/local/lib/python3.10/dist-packages (from sympy>=1.3->qiskit) (1.3.0)\n",
            "Downloading qiskit-1.3.1-cp39-abi3-manylinux_2_17_x86_64.manylinux2014_x86_64.whl (6.7 MB)\n",
            "\u001b[2K   \u001b[90m━━━━━━━━━━━━━━━━━━━━━━━━━━━━━━━━━━━━━━━━\u001b[0m \u001b[32m6.7/6.7 MB\u001b[0m \u001b[31m30.4 MB/s\u001b[0m eta \u001b[36m0:00:00\u001b[0m\n",
            "\u001b[?25hDownloading dill-0.3.9-py3-none-any.whl (119 kB)\n",
            "\u001b[2K   \u001b[90m━━━━━━━━━━━━━━━━━━━━━━━━━━━━━━━━━━━━━━━━\u001b[0m \u001b[32m119.4/119.4 kB\u001b[0m \u001b[31m5.8 MB/s\u001b[0m eta \u001b[36m0:00:00\u001b[0m\n",
            "\u001b[?25hDownloading rustworkx-0.15.1-cp38-abi3-manylinux_2_17_x86_64.manylinux2014_x86_64.whl (2.0 MB)\n",
            "\u001b[2K   \u001b[90m━━━━━━━━━━━━━━━━━━━━━━━━━━━━━━━━━━━━━━━━\u001b[0m \u001b[32m2.0/2.0 MB\u001b[0m \u001b[31m21.3 MB/s\u001b[0m eta \u001b[36m0:00:00\u001b[0m\n",
            "\u001b[?25hDownloading stevedore-5.4.0-py3-none-any.whl (49 kB)\n",
            "\u001b[2K   \u001b[90m━━━━━━━━━━━━━━━━━━━━━━━━━━━━━━━━━━━━━━━━\u001b[0m \u001b[32m49.5/49.5 kB\u001b[0m \u001b[31m2.1 MB/s\u001b[0m eta \u001b[36m0:00:00\u001b[0m\n",
            "\u001b[?25hDownloading symengine-0.13.0-cp310-cp310-manylinux_2_17_x86_64.manylinux2014_x86_64.whl (49.7 MB)\n",
            "\u001b[2K   \u001b[90m━━━━━━━━━━━━━━━━━━━━━━━━━━━━━━━━━━━━━━━━\u001b[0m \u001b[32m49.7/49.7 MB\u001b[0m \u001b[31m8.8 MB/s\u001b[0m eta \u001b[36m0:00:00\u001b[0m\n",
            "\u001b[?25hDownloading pbr-6.1.0-py2.py3-none-any.whl (108 kB)\n",
            "\u001b[2K   \u001b[90m━━━━━━━━━━━━━━━━━━━━━━━━━━━━━━━━━━━━━━━━\u001b[0m \u001b[32m108.5/108.5 kB\u001b[0m \u001b[31m6.3 MB/s\u001b[0m eta \u001b[36m0:00:00\u001b[0m\n",
            "\u001b[?25hInstalling collected packages: symengine, rustworkx, pbr, dill, stevedore, qiskit\n",
            "Successfully installed dill-0.3.9 pbr-6.1.0 qiskit-1.3.1 rustworkx-0.15.1 stevedore-5.4.0 symengine-0.13.0\n"
          ]
        }
      ],
      "source": [
        "!pip install qiskit"
      ]
    },
    {
      "cell_type": "code",
      "source": [
        "!pip install pennylane"
      ],
      "metadata": {
        "colab": {
          "base_uri": "https://localhost:8080/"
        },
        "id": "D6cxYaLJofAP",
        "outputId": "1159f31e-9114-4ea5-84b7-16730c994e9e"
      },
      "execution_count": 6,
      "outputs": [
        {
          "output_type": "stream",
          "name": "stdout",
          "text": [
            "Collecting pennylane\n",
            "  Downloading PennyLane-0.39.0-py3-none-any.whl.metadata (9.2 kB)\n",
            "Requirement already satisfied: numpy<2.1 in /usr/local/lib/python3.10/dist-packages (from pennylane) (1.26.4)\n",
            "Requirement already satisfied: scipy in /usr/local/lib/python3.10/dist-packages (from pennylane) (1.13.1)\n",
            "Requirement already satisfied: networkx in /usr/local/lib/python3.10/dist-packages (from pennylane) (3.4.2)\n",
            "Requirement already satisfied: rustworkx>=0.14.0 in /usr/local/lib/python3.10/dist-packages (from pennylane) (0.15.1)\n",
            "Requirement already satisfied: autograd in /usr/local/lib/python3.10/dist-packages (from pennylane) (1.7.0)\n",
            "Requirement already satisfied: toml in /usr/local/lib/python3.10/dist-packages (from pennylane) (0.10.2)\n",
            "Collecting appdirs (from pennylane)\n",
            "  Downloading appdirs-1.4.4-py2.py3-none-any.whl.metadata (9.0 kB)\n",
            "Collecting autoray>=0.6.11 (from pennylane)\n",
            "  Downloading autoray-0.7.0-py3-none-any.whl.metadata (5.8 kB)\n",
            "Requirement already satisfied: cachetools in /usr/local/lib/python3.10/dist-packages (from pennylane) (5.5.0)\n",
            "Collecting pennylane-lightning>=0.39 (from pennylane)\n",
            "  Downloading PennyLane_Lightning-0.39.0-cp310-cp310-manylinux_2_28_x86_64.whl.metadata (26 kB)\n",
            "Requirement already satisfied: requests in /usr/local/lib/python3.10/dist-packages (from pennylane) (2.32.3)\n",
            "Requirement already satisfied: typing-extensions in /usr/local/lib/python3.10/dist-packages (from pennylane) (4.12.2)\n",
            "Requirement already satisfied: packaging in /usr/local/lib/python3.10/dist-packages (from pennylane) (24.2)\n",
            "Requirement already satisfied: charset-normalizer<4,>=2 in /usr/local/lib/python3.10/dist-packages (from requests->pennylane) (3.4.0)\n",
            "Requirement already satisfied: idna<4,>=2.5 in /usr/local/lib/python3.10/dist-packages (from requests->pennylane) (3.10)\n",
            "Requirement already satisfied: urllib3<3,>=1.21.1 in /usr/local/lib/python3.10/dist-packages (from requests->pennylane) (2.2.3)\n",
            "Requirement already satisfied: certifi>=2017.4.17 in /usr/local/lib/python3.10/dist-packages (from requests->pennylane) (2024.12.14)\n",
            "Downloading PennyLane-0.39.0-py3-none-any.whl (1.9 MB)\n",
            "\u001b[2K   \u001b[90m━━━━━━━━━━━━━━━━━━━━━━━━━━━━━━━━━━━━━━━━\u001b[0m \u001b[32m1.9/1.9 MB\u001b[0m \u001b[31m23.1 MB/s\u001b[0m eta \u001b[36m0:00:00\u001b[0m\n",
            "\u001b[?25hDownloading autoray-0.7.0-py3-none-any.whl (930 kB)\n",
            "\u001b[2K   \u001b[90m━━━━━━━━━━━━━━━━━━━━━━━━━━━━━━━━━━━━━━━━\u001b[0m \u001b[32m930.0/930.0 kB\u001b[0m \u001b[31m46.9 MB/s\u001b[0m eta \u001b[36m0:00:00\u001b[0m\n",
            "\u001b[?25hDownloading PennyLane_Lightning-0.39.0-cp310-cp310-manylinux_2_28_x86_64.whl (1.7 MB)\n",
            "\u001b[2K   \u001b[90m━━━━━━━━━━━━━━━━━━━━━━━━━━━━━━━━━━━━━━━━\u001b[0m \u001b[32m1.7/1.7 MB\u001b[0m \u001b[31m54.9 MB/s\u001b[0m eta \u001b[36m0:00:00\u001b[0m\n",
            "\u001b[?25hDownloading appdirs-1.4.4-py2.py3-none-any.whl (9.6 kB)\n",
            "Installing collected packages: appdirs, autoray, pennylane-lightning, pennylane\n",
            "Successfully installed appdirs-1.4.4 autoray-0.7.0 pennylane-0.39.0 pennylane-lightning-0.39.0\n"
          ]
        }
      ]
    },
    {
      "cell_type": "code",
      "source": [
        "from datetime import datetime\n",
        "import matplotlib.pyplot as plt\n",
        "\n",
        "import numpy as np\n",
        "import pennylane as qml\n",
        "from pennylane import X, Y, Z\n",
        "\n",
        "import jax\n",
        "import jax.numpy as jnp\n",
        "import optax\n",
        "jax.config.update(\"jax_enable_x64\", True)\n",
        "\n",
        "n_wires = 4\n",
        "gens = [X(i) @ X(i+1) for i in range(n_wires-1)]\n",
        "gens += [Y(i) @ Y(i+1) for i in range(n_wires-1)]\n",
        "gens += [Z(i) @ Z(i+1) for i in range(n_wires-1)]\n",
        "\n",
        "H = qml.sum(*gens)\n",
        "\n",
        "g = qml.lie_closure(gens)\n",
        "g = [op.pauli_rep for op in g]"
      ],
      "metadata": {
        "id": "B7rkQw8ynze2"
      },
      "execution_count": 7,
      "outputs": []
    },
    {
      "cell_type": "code",
      "source": [
        "def even_odd_involution(op):\n",
        "    [pw] = op.pauli_rep\n",
        "    return len(pw) % 2\n",
        "\n",
        "even_odd_involution(X(0)), even_odd_involution(X(0) @ Y(3))"
      ],
      "metadata": {
        "colab": {
          "base_uri": "https://localhost:8080/"
        },
        "id": "7CMqvHc9ocxB",
        "outputId": "86ad6d99-9e55-47ed-ccb5-9702a21dc31c"
      },
      "execution_count": 8,
      "outputs": [
        {
          "output_type": "execute_result",
          "data": {
            "text/plain": [
              "(1, 0)"
            ]
          },
          "metadata": {},
          "execution_count": 8
        }
      ]
    },
    {
      "cell_type": "code",
      "source": [
        "def cartan_decomposition(g, involution):\n",
        "    \"\"\"Cartan Decomposition g = k + m\n",
        "\n",
        "    Args:\n",
        "        g (List[PauliSentence]): the (dynamical) Lie algebra to decompose\n",
        "        involution (callable): Involution function :math:`\\Theta(\\cdot)` to act on PauliSentence ops, should return ``0/1`` or ``True/False``.\n",
        "\n",
        "    Returns:\n",
        "        k (List[PauliSentence]): the vertical subspace :math:`\\Theta(x) = x`\n",
        "        m (List[PauliSentence]): the horizontal subspace :math:`\\Theta(x) = -x` \"\"\"\n",
        "    m = []\n",
        "    k = []\n",
        "\n",
        "    for op in g:\n",
        "        if involution(op): # vertical space when involution returns True\n",
        "            k.append(op)\n",
        "        else: # horizontal space when involution returns False\n",
        "            m.append(op)\n",
        "    return k, m\n",
        "\n",
        "k, m = cartan_decomposition(g, even_odd_involution)\n",
        "len(g), len(k), len(m)"
      ],
      "metadata": {
        "colab": {
          "base_uri": "https://localhost:8080/"
        },
        "id": "Uoo5L6EDonsc",
        "outputId": "be3445e4-a70b-44d8-e19b-dbe9211a8190"
      },
      "execution_count": 9,
      "outputs": [
        {
          "output_type": "execute_result",
          "data": {
            "text/plain": [
              "(60, 24, 36)"
            ]
          },
          "metadata": {},
          "execution_count": 9
        }
      ]
    },
    {
      "cell_type": "code",
      "source": [
        "for op in H.operands:\n",
        "    assert not even_odd_involution(op)"
      ],
      "metadata": {
        "id": "vEETZ98uoytq"
      },
      "execution_count": 10,
      "outputs": []
    },
    {
      "cell_type": "code",
      "source": [
        "def _commutes_with_all(candidate, ops):\n",
        "    r\"\"\"Check if ``candidate`` commutes with all ``ops``\"\"\"\n",
        "    for op in ops:\n",
        "        com = candidate.commutator(op)\n",
        "        com.simplify()\n",
        "\n",
        "        if not len(com) == 0:\n",
        "            return False\n",
        "    return True\n",
        "\n",
        "def cartan_subalgebra(m, which=0):\n",
        "    \"\"\"Compute the Cartan subalgebra from the horizontal subspace :math:`\\mathfrak{m}`\n",
        "    of the Cartan decomposition\n",
        "\n",
        "    This implementation is specific for cases of bases of m with pure Pauli words as\n",
        "    detailed in Appendix C in `2104.00728 <https://arxiv.org/abs/2104.00728>`__.\n",
        "\n",
        "    Args:\n",
        "        m (List[PauliSentence]): the horizontal subspace :math:`\\Theta(x) = -x\n",
        "        which (int): Choice for the initial element of m from which to construct\n",
        "            the maximal Abelian subalgebra\n",
        "\n",
        "    Returns:\n",
        "        mtilde (List): remaining elements of :math:`\\mathfrak{m}`\n",
        "            s.t. :math:`\\mathfrak{m} = \\tilde{\\mathfrak{m}} \\oplus \\mathfrak{h}`.\n",
        "        h (List): Cartan subalgebra :math:`\\mathfrak{h}`.\n",
        "\n",
        "    \"\"\"\n",
        "\n",
        "    h = [m[which]] # first candidate\n",
        "    mtilde = m.copy()\n",
        "\n",
        "    for m_i in m:\n",
        "        if _commutes_with_all(m_i, h):\n",
        "            if m_i not in h:\n",
        "                h.append(m_i)\n",
        "\n",
        "    for h_i in h:\n",
        "        mtilde.remove(h_i)\n",
        "\n",
        "    return mtilde, h\n",
        "\n",
        "mtilde, h = cartan_subalgebra(m)\n",
        "len(g), len(k), len(mtilde), len(h)"
      ],
      "metadata": {
        "colab": {
          "base_uri": "https://localhost:8080/"
        },
        "id": "IABEWM3po2SZ",
        "outputId": "84443378-122d-430e-f5c4-5eb66ceed13f"
      },
      "execution_count": 11,
      "outputs": [
        {
          "output_type": "execute_result",
          "data": {
            "text/plain": [
              "(60, 24, 24, 12)"
            ]
          },
          "metadata": {},
          "execution_count": 11
        }
      ]
    },
    {
      "cell_type": "code",
      "source": [
        "gammas = [np.pi**i % 2 for i in range(1, len(h)+1)]\n",
        "\n",
        "v = qml.dot(gammas, h)\n",
        "v_m = qml.matrix(v, wire_order=range(n_wires))\n",
        "v_m = jnp.array(v_m)"
      ],
      "metadata": {
        "id": "1PE0ZXsmo7OD"
      },
      "execution_count": 12,
      "outputs": []
    },
    {
      "cell_type": "code",
      "source": [
        "def run_opt(\n",
        "    value_and_grad,\n",
        "    theta,\n",
        "    n_epochs=500,\n",
        "    lr=0.1,\n",
        "):\n",
        "    \"\"\"Boilerplate JAX optimization\"\"\"\n",
        "    value_and_grad = jax.jit(jax.value_and_grad(loss))\n",
        "    optimizer = optax.lbfgs(learning_rate=lr, memory_size=100)\n",
        "    opt_state = optimizer.init(theta)\n",
        "\n",
        "    energy = []\n",
        "    gradients = []\n",
        "    thetas = []\n",
        "\n",
        "    @jax.jit\n",
        "    def step(opt_state, theta):\n",
        "        val, grad_circuit = value_and_grad(theta)\n",
        "        updates, opt_state = optimizer.update(\n",
        "            grad_circuit, opt_state, theta, value=val, grad=grad_circuit, value_fn=loss\n",
        "        )\n",
        "        theta = optax.apply_updates(theta, updates)\n",
        "\n",
        "        return opt_state, theta, val\n",
        "\n",
        "    t0 = datetime.now()\n",
        "    ## Optimization loop\n",
        "    for _ in range(n_epochs):\n",
        "        opt_state, theta, val = step(opt_state, theta)\n",
        "\n",
        "        energy.append(val)\n",
        "        thetas.append(theta)\n",
        "\n",
        "    t1 = datetime.now()\n",
        "    print(f\"final loss: {val}; min loss: {np.min(energy)}; after {t1 - t0}\")\n",
        "\n",
        "    return thetas, energy, gradients"
      ],
      "metadata": {
        "id": "98rtJZTQo9ks"
      },
      "execution_count": 13,
      "outputs": []
    },
    {
      "cell_type": "code",
      "source": [
        "H_m = qml.matrix(H, wire_order=range(n_wires))\n",
        "H_m = jnp.array(H_m)\n",
        "\n",
        "def K(theta, k):\n",
        "    for th, k_j in zip(theta, k):\n",
        "        qml.exp(-1j * th * k_j.operation())\n",
        "\n",
        "@jax.jit\n",
        "def loss(theta):\n",
        "    K_m = qml.matrix(K, wire_order=range(n_wires))(theta, k)\n",
        "    A = K_m @ v_m @ K_m.conj().T\n",
        "    return jnp.trace(A.conj().T @ H_m).real\n",
        "\n",
        "theta0 = jnp.ones(len(k), dtype=float)\n",
        "\n",
        "thetas, energy, _ = run_opt(loss, theta0, n_epochs=600, lr=0.05)\n",
        "plt.plot(energy - np.min(energy))\n",
        "plt.xlabel(\"epochs\")\n",
        "plt.ylabel(\"cost\")\n",
        "plt.yscale(\"log\")\n",
        "plt.show()"
      ],
      "metadata": {
        "colab": {
          "base_uri": "https://localhost:8080/",
          "height": 467
        },
        "id": "8vdlKiiYo_ek",
        "outputId": "bde87350-111d-48ac-c21b-b87b053edd19"
      },
      "execution_count": 14,
      "outputs": [
        {
          "output_type": "stream",
          "name": "stdout",
          "text": [
            "final loss: -147.6628502125487; min loss: -147.66285021254893; after 0:02:18.261833\n"
          ]
        },
        {
          "output_type": "display_data",
          "data": {
            "text/plain": [
              "<Figure size 640x480 with 1 Axes>"
            ],
            "image/png": "[encoded data removed]"
          },
          "metadata": {}
        }
      ]
    },
    {
      "cell_type": "code",
      "source": [],
      "metadata": {
        "id": "xV19qPy2pBVJ"
      },
      "execution_count": null,
      "outputs": []
    }
  ]
}